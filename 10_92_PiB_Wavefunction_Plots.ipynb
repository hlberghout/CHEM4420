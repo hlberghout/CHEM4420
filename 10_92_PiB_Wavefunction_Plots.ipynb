{
  "nbformat": 4,
  "nbformat_minor": 0,
  "metadata": {
    "colab": {
      "provenance": [],
      "include_colab_link": true
    },
    "kernelspec": {
      "name": "python3",
      "display_name": "Python 3"
    }
  },
  "cells": [
    {
      "cell_type": "markdown",
      "metadata": {
        "id": "view-in-github",
        "colab_type": "text"
      },
      "source": [
        "<a href=\"https://colab.research.google.com/github/hlberghout/CHEM4420/blob/main/10_92_PiB_Wavefunction_Plots.ipynb\" target=\"_parent\"><img src=\"https://colab.research.google.com/assets/colab-badge.svg\" alt=\"Open In Colab\"/></a>"
      ]
    },
    {
      "cell_type": "markdown",
      "metadata": {
        "id": "0pRWUmfohCrT"
      },
      "source": [
        "# **Identify the nodes in PiB wavefunctions**\n",
        "\n",
        "10.92 - Construct plots of the probablilities of the first three wavefunctions for a particle in a one-dimensional box having length a. Identify where the nodes are.\n",
        "---\n",
        "\n"
      ]
    },
    {
      "cell_type": "markdown",
      "metadata": {
        "id": "BPyLGEJlEFpy"
      },
      "source": [
        "This is a text block than can be used to explain sections of code in the program or even write a complete report.  Comments within the code block can also be used as demonstrated below.  The first code block of this notebook is a library declaration block defining the libraries the contain the functions that we will use and the notebook scrip that follows and how those functions are called."
      ]
    },
    {
      "cell_type": "code",
      "metadata": {
        "id": "JlS5SLCdrAfX"
      },
      "source": [
        "#note that any input following a pound symbol is a comment and is ignored by the intepreter.\n",
        "import matplotlib #Matplotlib is a python plotting library used in this example.\n",
        "import matplotlib.pyplot as plt #pyplot provides a matlab like plotting function.\n",
        "import numpy as np #NumPy is the fundamental scientific computing package in Python.\n",
        "import scipy.constants as constants #SciPy physical constants library, SI units.\n",
        "import scipy.integrate as integrate #SciPy Integration library\n",
        "import scipy.optimize as optimize\n",
        "import scipy.special as special #SciPy special functions library\n",
        "import seaborn #matplotlib enhancement.\n",
        "from IPython.display import Latex #library to allow creation of pretty formulas written in LATEX"
      ],
      "execution_count": null,
      "outputs": []
    },
    {
      "cell_type": "markdown",
      "metadata": {
        "id": "1tOY2g-EE7q3"
      },
      "source": [
        "This block defines the initial values of variable that are not defined elsewhere in the imported libraries above."
      ]
    },
    {
      "cell_type": "code",
      "metadata": {
        "id": "TtgS-lAHoCFD"
      },
      "source": [
        "# Defined variables\n",
        "T = 6000.0 #Absolute temperature (Kelvin)\n",
        "dl = 1.0E-9 #dlambda - wavelength step size (meters)\n",
        "lmax = 3.0E-6 #Maximum wavelength value to plot on x axis (meters)\n",
        "l = np.arange(dl, lmax, dl) #lambda - wavelength range variable for plot\n",
        "rmax = 1.5E6 #maximum Energy Density value to plot "
      ],
      "execution_count": null,
      "outputs": []
    },
    {
      "cell_type": "markdown",
      "metadata": {
        "id": "OQkkfdqmGAG7"
      },
      "source": [
        "The following three blocks define the three functions that we will be plotting and comparing in this activity.  Each of these functions expresses the energy density in the infinitesimal energy density $\\text{d} \\mathcal{E}$ in the wavelength range $\\lambda$ to $\\lambda + \\text{d} \\lambda$ as:\n",
        "\n",
        "$$\\text{d} \\mathcal{E} = \\rho \\text{d} \\lambda $$\n",
        "\n",
        "The function $\\rho$ corresponding to the **Rayleigh-Jeans law** is\n",
        "$$\\rho \\left(\\lambda, T\\right) = \\left( \\frac {8 \\pi k T}{\\lambda^4} \\right) $$\n",
        "The other symbols retain their usual definitions."
      ]
    },
    {
      "cell_type": "code",
      "metadata": {
        "id": "mzUaPOi9IT3G"
      },
      "source": [
        "#All formulas defined as spectral radiances\n",
        "#Define Rayleigh-Jeans law as a function\n",
        "def r_RJ(l, T):\n",
        " return 8*constants.pi*constants.k*T/l**4"
      ],
      "execution_count": null,
      "outputs": []
    },
    {
      "cell_type": "markdown",
      "metadata": {
        "id": "PBAyUn2bIZXr"
      },
      "source": [
        "The function $\\rho$ corresponding to the **Wien's approximation** is:\n",
        "\n",
        "$$\\rho \\left(\\lambda, T\\right) = \\frac{8 \\pi h c}{\\lambda^5} \\operatorname e ^{hc/\\lambda k T}$$ \n",
        "\n",
        "Note that this form of the function is that presented by Planck and includes Planck's constant that was not part of Wien's original expersion.  This form is used to match the scale for comparison purposes of Planck's equation below."
      ]
    },
    {
      "cell_type": "code",
      "metadata": {
        "id": "_tQEE4hgIaPL"
      },
      "source": [
        "#Define Wien exponential law (as modified by Planck-See Wikipedia \"Wien approximation\") as a function\n",
        "def r_W(l, T):\n",
        " return 8*constants.pi*constants.h*constants.c/l**5*np.exp(-constants.h*constants.c/(l*constants.k*T))"
      ],
      "execution_count": null,
      "outputs": []
    },
    {
      "cell_type": "markdown",
      "metadata": {
        "id": "Su4GWe1XL5wx"
      },
      "source": [
        "The function $\\rho$ corresponding to the **Planck's law** is:\n",
        "\n",
        "$$\\rho \\left( \\lambda , T \\right) = \\frac{8 \\pi h c}{\\lambda^5} \\left( \\frac{1}{\\operatorname e ^{hc/\\lambda k T} - 1} \\right)$$"
      ]
    },
    {
      "cell_type": "code",
      "metadata": {
        "id": "ikOLkF4nIcYt"
      },
      "source": [
        "#Define Planck's equation as a function\n",
        "def r_P(l, T):\n",
        " return 8*constants.pi*constants.h*constants.c/l**5*(1/(np.exp(constants.h*constants.c/(l*constants.k*T))-1))"
      ],
      "execution_count": null,
      "outputs": []
    },
    {
      "cell_type": "markdown",
      "metadata": {
        "id": "t8svY_c6TjMV"
      },
      "source": [
        "Finally, this block of code produces the plot that allows us to visually compare these three functions."
      ]
    },
    {
      "cell_type": "code",
      "metadata": {
        "id": "RGtcJbXnIlXM",
        "outputId": "e4ee096a-fa76-4665-97de-0348a56f9375",
        "colab": {
          "base_uri": "https://localhost:8080/",
          "height": 334
        }
      },
      "source": [
        "#Plot equations at temperature T.\n",
        "fig = plt.figure()\n",
        "ax = plt.axes()\n",
        "ax.plot(l,r_RJ(l, T), 'b')\n",
        "ax.plot(l,r_W(l, T), 'g')\n",
        "ax.plot(l,r_P(l, T), 'r')\n",
        "ax.set(xlabel='Wavelength (m)', ylabel='Energy Density (J/m^3/s)',\n",
        "       title=\"Rayleigh-Jeans Law vs. Wien Approximation vs. Planck's Law\")\n",
        "ax.grid()\n",
        "plt.ylim(-rmax*0.05,rmax)\n",
        "plt.ticklabel_format(style='sci', axis='both',scilimits=(-3,4), useMathText='True')\n",
        "plt.show()"
      ],
      "execution_count": null,
      "outputs": [
        {
          "output_type": "stream",
          "text": [
            "/usr/local/lib/python3.6/dist-packages/ipykernel_launcher.py:2: RuntimeWarning: overflow encountered in exp\n",
            "  \n"
          ],
          "name": "stderr"
        },
        {
          "output_type": "display_data",
          "data": {
            "image/png": "[encoded data removed]",
            "text/plain": [
              "<Figure size 432x288 with 1 Axes>"
            ]
          },
          "metadata": {
            "tags": []
          }
        }
      ]
    }
  ]
}