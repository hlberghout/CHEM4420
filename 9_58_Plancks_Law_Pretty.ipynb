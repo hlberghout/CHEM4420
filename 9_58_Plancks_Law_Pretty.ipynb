{
  "nbformat": 4,
  "nbformat_minor": 0,
  "metadata": {
    "colab": {
      "provenance": [],
      "include_colab_link": true
    },
    "kernelspec": {
      "name": "python3",
      "display_name": "Python 3"
    }
  },
  "cells": [
    {
      "cell_type": "markdown",
      "metadata": {
        "id": "view-in-github",
        "colab_type": "text"
      },
      "source": [
        "<a href=\"https://colab.research.google.com/github/hlberghout/CHEM4420/blob/Fixing-Typos/9_58_Plancks_Law_Pretty.ipynb\" target=\"_parent\"><img src=\"https://colab.research.google.com/assets/colab-badge.svg\" alt=\"Open In Colab\"/></a>"
      ]
    },
    {
      "cell_type": "markdown",
      "metadata": {
        "id": "0pRWUmfohCrT"
      },
      "source": [
        "# **Integrating Planck's equation in terms of power per unit area**\n",
        "\n",
        "9.58 Plot Planck's law of infinitesimal power flux (equation 9.23) versus wavelength at various temperatures.  Integrate it to show that you can get the Stefan-Bolzmann law and constant.\n",
        "---\n",
        "\n"
      ]
    },
    {
      "cell_type": "markdown",
      "source": [
        "This is a text block than can be used to explain sections of code in the program or even write a complete report. Comments within the code block can also be used as demonstrated below. The first code block of this notebook is a library declaration block defining the libraries that contain the functions that we will use and the notebook script that follows indicates how those functions are called."
      ],
      "metadata": {
        "id": "UuZ9TfbAAR90"
      }
    },
    {
      "cell_type": "code",
      "metadata": {
        "id": "JlS5SLCdrAfX"
      },
      "source": [
        "#note that any input following a pound symbol is a comment and is ignored by the intepreter.\n",
        "import matplotlib #Matplotlib is a python plotting library used in this example.\n",
        "import matplotlib.pyplot as plt #pyplot provides a matlab like plotting function.\n",
        "import numpy as np #NumPy is the fundamental scientific computing package in Python.\n",
        "import scipy.constants as constants #SciPy physical constants library, SI units.\n",
        "import scipy.integrate as integrate #SciPy Integration library\n",
        "import scipy.special as special #SciPy special functions library\n",
        "import seaborn #matplotlib enhancement."
      ],
      "execution_count": 1,
      "outputs": []
    },
    {
      "cell_type": "markdown",
      "source": [
        "This block defines the initial values of variables that are not defined elsewhere in the imported libraries above."
      ],
      "metadata": {
        "id": "0duyP8cdAGjE"
      }
    },
    {
      "cell_type": "code",
      "metadata": {
        "id": "TtgS-lAHoCFD"
      },
      "source": [
        "# Defined variables\n",
        "T = 4500.0 #Temperature in (Kelvin)\n",
        "dl = 3.0E-9 #Wavelength step size (meters)\n",
        "lmax = 1.0E-5 #Maximum wavelength to plot (meters)\n",
        "l = np.arange(dl, lmax, dl) #range variable for plot, start at "
      ],
      "execution_count": 2,
      "outputs": []
    },
    {
      "cell_type": "markdown",
      "source": [
        "The following block uses Planck's Law in terms of the infinitesimal power per unit area $\\text d \\mathscr{E}$ emitted in the wavelength range $\\lambda$ to $\\lambda + \\text{d} \\lambda$. \n",
        "\n",
        "$$\\text {d} \\mathscr{E} = \\frac{2 \\pi h c^2}{\\lambda^5} \\left( \\frac{1}{\\operatorname e ^{hc/\\lambda k T} - 1} \\right) d \\lambda$$\n",
        "\n",
        "\n",
        "\n",
        "---\n",
        "\n",
        "\n",
        "Note that I need a better explaination here"
      ],
      "metadata": {
        "id": "65LRjoIIBX5L"
      }
    },
    {
      "cell_type": "code",
      "source": [
        "#Define Planck's equation as a function\n",
        "def dE(l, T):\n",
        " return 2*constants.pi*constants.h*constants.c**2/l**5*(1/(np.exp(np.float128(constants.h*constants.c/(l*constants.k*T)))-1)) \n",
        " #note that the exponetial argument is too large to be evaluated with a 64-bit exp, so changed to 128-bit."
      ],
      "metadata": {
        "id": "UbxJx1xuBY8i"
      },
      "execution_count": 3,
      "outputs": []
    },
    {
      "cell_type": "markdown",
      "source": [
        "Finally, this block of code produces the plot that allows us to visualize the function."
      ],
      "metadata": {
        "id": "R7D6Z1HHIbMM"
      }
    },
    {
      "cell_type": "code",
      "source": [
        "#Plot Planck's equation at temperature T.\n",
        "fig = plt.figure()\n",
        "ax = plt.axes()\n",
        "ax.plot(l, dE(l, T))\n",
        "ax.set(xlabel='Wavelength (m)', ylabel='Power/Area (W/m^2)',\n",
        "       title=\"Planck's Law\")\n",
        "ax.grid()\n",
        "plt.ticklabel_format(style='sci', axis='both',scilimits=(-3,4), useMathText='True')\n",
        "plt.show()"
      ],
      "metadata": {
        "colab": {
          "base_uri": "https://localhost:8080/",
          "height": 300
        },
        "id": "aWhNJEHCIZhu",
        "outputId": "4beb9cc0-9f58-4286-fece-2448a66d7716"
      },
      "execution_count": 4,
      "outputs": [
        {
          "output_type": "display_data",
          "data": {
            "text/plain": [
              "<Figure size 432x288 with 1 Axes>"
            ],
            "image/png": "[encoded data removed]"
          },
          "metadata": {
            "needs_background": "light"
          }
        }
      ]
    },
    {
      "cell_type": "markdown",
      "source": [
        "Finally, we apply the scipy integrate function to evaluate the integral and compare the integrated intensity to that predicted by the Stefan-Boltzmann law and constant.  Not that this is a numerical integration and does not reach to infinite wavelengths.  This trancated integral may in part account for the slight under estimate of the  Stefan-Boltzmann Constant."
      ],
      "metadata": {
        "id": "sXDFgUfEJNRh"
      }
    },
    {
      "cell_type": "code",
      "source": [
        "E = integrate.quad(dE, 0, lmax, args=(T))\n",
        "print(T, \"Kelvins\") \n",
        "print(\"Integrated Intensity: \", \"%10.6E\"% E[0], \"W/m^2\")\n",
        "print(\"Estimated Error: \", \"%10.6E\"% E[1], \"W/m^2\")\n",
        "\n",
        "sigma = E[0]/T**4\n",
        "PercentDeltasigma = (sigma-constants.sigma)/constants.sigma*100\n",
        "\n",
        "print(\"Estimated Stefan-Boltzmann Constant: \", \"%10.6E\"% sigma, \"W/m^2/K^4\")\n",
        "print(\"Compare to literature: 5.670400E-8 W/m^2/K^4\")\n",
        "print(\"Percent difference: \", \"%10.3E\"% PercentDeltasigma, \"%\")"
      ],
      "metadata": {
        "colab": {
          "base_uri": "https://localhost:8080/"
        },
        "id": "8T0qGEMIJLpx",
        "outputId": "5bfdfe4d-9d45-4e24-ef6e-cd6aa9320cf7"
      },
      "execution_count": 5,
      "outputs": [
        {
          "output_type": "stream",
          "name": "stdout",
          "text": [
            "4500.0 Kelvins\n",
            "Integrated Intensity:  2.321755E+07 W/m^2\n",
            "Estimated Error:  1.629608E-06 W/m^2\n",
            "Estimated Stefan-Boltzmann Constant:  5.661953E-08 W/m^2/K^4\n",
            "Compare to literature: 5.670400E-8 W/m^2/K^4\n",
            "Percent difference:  -1.485E-01 %\n"
          ]
        }
      ]
    }
  ]
}