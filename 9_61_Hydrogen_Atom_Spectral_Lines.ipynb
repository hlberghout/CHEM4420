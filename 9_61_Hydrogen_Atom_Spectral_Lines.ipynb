{
  "nbformat": 4,
  "nbformat_minor": 0,
  "metadata": {
    "colab": {
      "provenance": [],
      "include_colab_link": true
    },
    "kernelspec": {
      "name": "python3",
      "display_name": "Python 3"
    }
  },
  "cells": [
    {
      "cell_type": "markdown",
      "metadata": {
        "id": "view-in-github",
        "colab_type": "text"
      },
      "source": [
        "<a href=\"https://colab.research.google.com/github/hlberghout/CHEM4420/blob/main/9_61_Hydrogen_Atom_Spectral_Lines.ipynb\" target=\"_parent\"><img src=\"https://colab.research.google.com/assets/colab-badge.svg\" alt=\"Open In Colab\"/></a>"
      ]
    },
    {
      "cell_type": "markdown",
      "metadata": {
        "id": "0pRWUmfohCrT"
      },
      "source": [
        "# **Hydrogen Atom Spectral Lines**\n",
        "\n",
        "9.61 - Construct a table of the first 50 lines fo the first six series of the hydrogen atom spectrum.  Can you predict the series limit in each case?\n",
        "---\n",
        "\n"
      ]
    },
    {
      "cell_type": "markdown",
      "metadata": {
        "id": "BPyLGEJlEFpy"
      },
      "source": [
        "This is a text block than can be used to explain sections of code in the program or even write a complete report.  Comments within the code block can also be used as demonstrated below.  The first code block of this notebook is a library declaration block defining the libraries the contain the functions that we will use and the notebook scrip that follows and how those functions are called."
      ]
    },
    {
      "cell_type": "code",
      "metadata": {
        "id": "JlS5SLCdrAfX"
      },
      "source": [
        "#note that any input following a pound symbol is a comment and is ignored by the intepreter.\n",
        "import matplotlib #Matplotlib is a python plotting library used in this example.\n",
        "import matplotlib.pyplot as plt #pyplot provides a matlab like plotting function.\n",
        "import numpy as np #NumPy is the fundamental scientific computing package in Python.\n",
        "import scipy.constants as constants #SciPy physical constants library, SI units.\n",
        "import scipy.special as special #SciPy special functions library\n",
        "import seaborn #matplotlib enhancement.\n",
        "from IPython.display import Latex #library to allow creation of pretty formulas written in LATEX"
      ],
      "execution_count": null,
      "outputs": []
    },
    {
      "cell_type": "markdown",
      "metadata": {
        "id": "1tOY2g-EE7q3"
      },
      "source": [
        "This block defines the initial values of variable that are not defined elsewhere in the imported libraries above."
      ]
    },
    {
      "cell_type": "code",
      "metadata": {
        "id": "TtgS-lAHoCFD"
      },
      "source": [
        "# Defined variables\n",
        "RH = constants.Rydberg #Rydberg Constant (cm^-1)\n",
        "nmax = 50 #maximum initial n value\n",
        "ni_L = np.arange(2, nmax) #upper n value range for Lyman series\n",
        "ni_B = np.arange(3, nmax) #upper n value range for Balmer series\n",
        "ni_P = np.arange(4, nmax) #upper n value range for Paschen series\n",
        "ni_Br = np.arange(5, nmax) #upper n value range for Brackett series\n",
        "ni_Pf = np.arange(6, nmax) #upper n value range for Pfund series\n",
        "numax = 1.25E5 #maximum Energy value to plot "
      ],
      "execution_count": null,
      "outputs": []
    },
    {
      "cell_type": "markdown",
      "metadata": {
        "id": "OQkkfdqmGAG7"
      },
      "source": [
        "This block define the **Rydberg equation** as a function that is then plotted for various hydrogen atom emission spectrum series up to $n_i = 50$.  Each series differs from the other series in the value of $n_f$.  The series are **Lyman**, $n_f = 1$ (Vacuum UV); **Balmer**, $n_f = 2$ (UV &visible); **Paschen**, $n_f = 3$ (near IR); **Brackett**, $n_f = 4$ (mid IR); and **Pfund**, $n_f = 5$ (far IR) series.  The **Rydberg equation** is:\n",
        "\n",
        "$$ \\frac{1}{\\lambda} \\equiv \\tilde{\\nu} = R_H \\left( \\frac{1}{n_\\text f ^2} - \\frac{1}{n_\\text i^2} \\right) $$\n",
        "\n",
        "where $R_\\text H$ is the Rydberg constant with a value of 109737.3156816 cm<sup>-1</sup>. "
      ]
    },
    {
      "cell_type": "code",
      "metadata": {
        "id": "mzUaPOi9IT3G"
      },
      "source": [
        "#All formulas defined as spectral radiances\n",
        "#Define Rydberg equation as a function\n",
        "def nu_tilde(nf, ni):\n",
        " return RH/100*(1/nf**2 - 1/ni**2)"
      ],
      "execution_count": null,
      "outputs": []
    },
    {
      "cell_type": "markdown",
      "source": [
        "Need a block here that prints a table of values."
      ],
      "metadata": {
        "id": "dvNuO8VRWj2q"
      }
    },
    {
      "cell_type": "markdown",
      "metadata": {
        "id": "t8svY_c6TjMV"
      },
      "source": [
        "Finally, this block of code produces the plot that allows us to visually compare the five series."
      ]
    },
    {
      "cell_type": "code",
      "metadata": {
        "id": "RGtcJbXnIlXM",
        "outputId": "a03aa11f-0e69-4459-845e-d187369637ad",
        "colab": {
          "base_uri": "https://localhost:8080/",
          "height": 297
        }
      },
      "source": [
        "#Plot equations at temperature T.\n",
        "fig = plt.figure()\n",
        "ax = plt.axes()\n",
        "ax.plot(ni_L,nu_tilde(1.0, ni_L), 'b_')\n",
        "ax.plot(ni_B,nu_tilde(2.0, ni_B), 'g_')\n",
        "ax.plot(ni_P,nu_tilde(3.0, ni_P), 'y_')\n",
        "ax.plot(ni_Br,nu_tilde(4.0, ni_Br), 'k_')\n",
        "ax.plot(ni_Pf,nu_tilde(5.0, ni_Pf), 'r_')\n",
        "ax.set(xlabel='Initial n', ylabel='Energy (cm^-1)',\n",
        "       title=\"Rydberg emission line energies\")\n",
        "ax.grid()\n",
        "#plt.ylim(0,numax)\n",
        "plt.ticklabel_format(style='sci', axis='both',scilimits=(-3,4), useMathText='True')\n",
        "plt.show()"
      ],
      "execution_count": null,
      "outputs": [
        {
          "output_type": "display_data",
          "data": {
            "image/png": "[encoded data removed]",
            "text/plain": [
              "<Figure size 432x288 with 1 Axes>"
            ]
          },
          "metadata": {
            "tags": []
          }
        }
      ]
    }
  ]
}