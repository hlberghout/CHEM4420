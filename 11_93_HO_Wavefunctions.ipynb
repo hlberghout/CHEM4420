{
  "nbformat": 4,
  "nbformat_minor": 0,
  "metadata": {
    "colab": {
      "provenance": [],
      "include_colab_link": true
    },
    "kernelspec": {
      "name": "python3",
      "display_name": "Python 3"
    }
  },
  "cells": [
    {
      "cell_type": "markdown",
      "metadata": {
        "id": "view-in-github",
        "colab_type": "text"
      },
      "source": [
        "<a href=\"https://colab.research.google.com/github/hlberghout/CHEM4420/blob/main/11_93_HO_Wavefunctions.ipynb\" target=\"_parent\"><img src=\"https://colab.research.google.com/assets/colab-badge.svg\" alt=\"Open In Colab\"/></a>"
      ]
    },
    {
      "cell_type": "markdown",
      "metadata": {
        "id": "0pRWUmfohCrT"
      },
      "source": [
        "# **Solutions of HO**\n",
        "\n",
        "11.93. Graph the first five wavefunctions for the harmonic oscillator and their probabilities.  Superimpose these graphs on the potential energy function for a harmonic oscillator and numerically determine the x values of the classical turning points.  What is the probability that an oscillator will exist beyond the classical turning points?  Do plots of the probability begin to show a distribution as expected by the correspondence principle?\n",
        "---\n",
        "\n"
      ]
    },
    {
      "cell_type": "markdown",
      "metadata": {
        "id": "BPyLGEJlEFpy"
      },
      "source": [
        "This is a text block than can be used to explain sections of code in the program or even write a complete report.  Comments within the code block can also be used as demonstrated below.  The first code block of this notebook is a library declaration block defining the libraries the contain the functions that we will use and the notebook scrip that follows and how those functions are called."
      ]
    },
    {
      "cell_type": "code",
      "metadata": {
        "id": "JlS5SLCdrAfX"
      },
      "source": [
        "#note that any input following a pound symbol is a comment and is ignored by the intepreter.\n",
        "import matplotlib #Matplotlib is a python plotting library used in this example.\n",
        "import matplotlib.pyplot as plt #pyplot provides a matlab like plotting function.\n",
        "import numpy as np #NumPy is the fundamental scientific computing package in Python.\n",
        "import scipy.constants as constants #SciPy physical constants library, SI units.\n",
        "import scipy.integrate as integrate #SciPy Integration library\n",
        "import scipy.optimize as optimize\n",
        "import scipy.special as special #SciPy special functions library\n",
        "import seaborn #matplotlib enhancement.\n",
        "from IPython.display import Latex #library to allow creation of pretty formulas written in LATEX"
      ],
      "execution_count": null,
      "outputs": []
    },
    {
      "cell_type": "markdown",
      "metadata": {
        "id": "1tOY2g-EE7q3"
      },
      "source": [
        "This block defines the initial values of variable that are not defined elsewhere in the imported libraries above."
      ]
    },
    {
      "cell_type": "code",
      "metadata": {
        "id": "TtgS-lAHoCFD"
      },
      "source": [
        "# Defined variables\n",
        "k = 1.0 #Spring constant (N/m)\n",
        "m = 10.0 #mass of oscillator (kg)"
      ],
      "execution_count": null,
      "outputs": []
    },
    {
      "cell_type": "markdown",
      "metadata": {
        "id": "OQkkfdqmGAG7"
      },
      "source": [
        "The quantum mechanical harmonic oscillator potential energy operator is derived from the classical harmonic oscillator potential energy function::\n",
        "\n",
        "$$ \\hat V = \\tfrac 1 2 k \\hat x^2 $$\n",
        "\n",
        "Inserting the resulting Hamiltonian into the Schrödinger equation gives:\n",
        "\n",
        "$$ \\left[ - \\frac \\hbar {2m} \\frac {d^2x}{dt^2} + \\frac 1 2 kx \\right] \\psi = E \\psi $$\n",
        "\n",
        "The eigenfunctions, which are the solutions of this differential equation are products of one of the Hermite polynomials and a Gaussian function:\n",
        "\n",
        "$$ \\psi_n (x) = \\left( \\frac \\alpha \\pi \\right)^{1/4} \\cdot \\left( \\frac 1 {2^n n!} \\right)^{1/2} \\cdot H_n( \\alpha^{1/2} x ) \\cdot \\operatorname e ^{- \\alpha x^2 / 2} $$\n",
        "\n",
        "The $H_n$ is the $n$<sup>th</sup> Hermite polynomial.  The exponential factor is a Gaussian function.  The factors to the left of the Hermite polynomial make up the normalization constant, which depends on the value of $n$.  The constant $\\alpha$ is related to the force constant for the oscillator and the effective mass of the oscillator as \n",
        "\n",
        "$$\\alpha = \\frac {\\sqrt{km}} {\\hbar} $$ \n",
        "\n",
        "Hermite polynomials are solutions of the differential equation known as Hermite's equation:\n",
        "\n",
        "$$ H_n'' - 2 \\xi H_n' + 2n H_n = 0 $$\n",
        "\n",
        "The Hermite polynomials make up a complete, infinite, orthogonal set.  \n",
        "\n",
        "$$ \\int_{-\\infty}^{+\\infty} H_{n'}H_{n} \\operatorname e ^{-\\xi^2} \\operatorname d \\xi = \\left\\{\n",
        "\\begin{matrix}\n",
        "0 & {\\text {if } n' \\neq n} \\\\\n",
        "\\pi^{1/2}2^n n! & {\\text {if } n' = n}\n",
        "\\end{matrix}\n",
        "\\right. $$\n",
        "\n",
        "The first seven members of the set are:\n",
        "\n",
        "| $n$ | $H_n(\\xi)$ |\n",
        "| ---    | ---    |\n",
        "| $0$ | $1$ |\n",
        "| $1$ | $2 \\xi$ |\n",
        "| $2$ | $4 \\xi^2 - 2$ |\n",
        "| $3$ | $8 \\xi^3 - 12 \\xi$ | \n",
        "| $4$ | $16 \\xi^4 - 48 \\xi^2 + 12$ |\n",
        "| $5$ | $32 \\xi^5 - 160 \\xi^3 + 120 \\xi $ |\n",
        "| $6$ | $64 \\xi^6 - 480 \\xi^4 + 720 \\xi^2 - 120$ |\n",
        "\n",
        "They exhibit the recursion relationship:\n",
        "\n",
        "$$ H_{n+1} = 2 \\xi H_n - 2n H_{n-1}$$\n",
        "\n",
        "This relationship allows you to write down the $H_7$ polynomial by combining the $H_6$ and $H_5$ polynomials and, in principle, makes it possible to write down any one of the Hermite polynomials from the previous two.\n",
        "\n",
        "The eigenvalue associated with each eigenfunction is:\n",
        "\n",
        "$$ E_n = h \\nu \\left(n + \\tfrac 1 2 \\right) $$\n",
        "\n",
        "where the vibrational frequency in Hertz, (cycles per second, $s^{-1}$) is: \n",
        "\n",
        "$$ \\nu = \\frac 1 {2 \\pi} \\sqrt{ \\frac k m } $$\n",
        "\n",
        "The following code calculates and plots the solution of the classical harmonic oscillator."
      ]
    },
    {
      "cell_type": "code",
      "metadata": {
        "id": "9Fr2SLpUWhK5"
      },
      "source": [
        "#Define the harmonic oscillator potential energy function\n",
        "def V(x):\n",
        "    return k*x**2/2"
      ],
      "execution_count": null,
      "outputs": []
    },
    {
      "cell_type": "code",
      "metadata": {
        "id": "mzUaPOi9IT3G"
      },
      "source": [
        "#Define the solution of the harmonic oscillator energy function\n",
        "def E(n):\n",
        "   return constants.h/(2*constants.pi)*np.sqrt(k/m)*(n+0.5)"
      ],
      "execution_count": null,
      "outputs": []
    },
    {
      "cell_type": "markdown",
      "metadata": {
        "id": "t8svY_c6TjMV"
      },
      "source": [
        "Finally, this block of code produces the plot that allows us to visually compare these three functions."
      ]
    },
    {
      "cell_type": "code",
      "metadata": {
        "id": "RGtcJbXnIlXM",
        "outputId": "779387b6-6eb0-4865-d6d9-dad7a6952e07",
        "colab": {
          "base_uri": "https://localhost:8080/",
          "height": 623
        }
      },
      "source": [
        "#Set up the plot range\n",
        "x_range = 1.0\n",
        "steps = 500\n",
        "x = np.linspace(-x_range, x_range, steps) #position range variable\n",
        "#Plot the solution.\n",
        "fig = plt.figure()\n",
        "ax = plt.axes()\n",
        "ax.plot(x,V(x), 'k')\n",
        "ax.plot(x,E(0), 'b')\n",
        "ax.set(xlabel='Position (m)', ylabel='Energy (J)',\n",
        "       title=\"Harmonic Oscillator\")\n",
        "ax.grid()\n",
        "#plt.ylim(-rmax*0.05,rmax)\n",
        "plt.ticklabel_format(style='sci', axis='both',scilimits=(-3,4), useMathText='True')\n",
        "plt.show()"
      ],
      "execution_count": null,
      "outputs": [
        {
          "output_type": "error",
          "ename": "ValueError",
          "evalue": "ignored",
          "traceback": [
            "\u001b[0;31m---------------------------------------------------------------------------\u001b[0m",
            "\u001b[0;31mValueError\u001b[0m                                Traceback (most recent call last)",
            "\u001b[0;32m<ipython-input-54-830e752ebf01>\u001b[0m in \u001b[0;36m<module>\u001b[0;34m()\u001b[0m\n\u001b[1;32m      6\u001b[0m \u001b[0max\u001b[0m \u001b[0;34m=\u001b[0m \u001b[0mplt\u001b[0m\u001b[0;34m.\u001b[0m\u001b[0maxes\u001b[0m\u001b[0;34m(\u001b[0m\u001b[0;34m)\u001b[0m\u001b[0;34m\u001b[0m\u001b[0;34m\u001b[0m\u001b[0m\n\u001b[1;32m      7\u001b[0m \u001b[0max\u001b[0m\u001b[0;34m.\u001b[0m\u001b[0mplot\u001b[0m\u001b[0;34m(\u001b[0m\u001b[0mx\u001b[0m\u001b[0;34m,\u001b[0m\u001b[0mV\u001b[0m\u001b[0;34m(\u001b[0m\u001b[0mx\u001b[0m\u001b[0;34m)\u001b[0m\u001b[0;34m,\u001b[0m \u001b[0;34m'k'\u001b[0m\u001b[0;34m)\u001b[0m\u001b[0;34m\u001b[0m\u001b[0;34m\u001b[0m\u001b[0m\n\u001b[0;32m----> 8\u001b[0;31m \u001b[0max\u001b[0m\u001b[0;34m.\u001b[0m\u001b[0mplot\u001b[0m\u001b[0;34m(\u001b[0m\u001b[0mx\u001b[0m\u001b[0;34m,\u001b[0m\u001b[0mE\u001b[0m\u001b[0;34m(\u001b[0m\u001b[0;36m0\u001b[0m\u001b[0;34m)\u001b[0m\u001b[0;34m,\u001b[0m \u001b[0;34m'b'\u001b[0m\u001b[0;34m)\u001b[0m\u001b[0;34m\u001b[0m\u001b[0;34m\u001b[0m\u001b[0m\n\u001b[0m\u001b[1;32m      9\u001b[0m ax.set(xlabel='Position (m)', ylabel='Energy (J)',\n\u001b[1;32m     10\u001b[0m        title=\"Harmonic Oscillator\")\n",
            "\u001b[0;32m/usr/local/lib/python3.6/dist-packages/matplotlib/axes/_axes.py\u001b[0m in \u001b[0;36mplot\u001b[0;34m(self, scalex, scaley, data, *args, **kwargs)\u001b[0m\n\u001b[1;32m   1663\u001b[0m         \"\"\"\n\u001b[1;32m   1664\u001b[0m         \u001b[0mkwargs\u001b[0m \u001b[0;34m=\u001b[0m \u001b[0mcbook\u001b[0m\u001b[0;34m.\u001b[0m\u001b[0mnormalize_kwargs\u001b[0m\u001b[0;34m(\u001b[0m\u001b[0mkwargs\u001b[0m\u001b[0;34m,\u001b[0m \u001b[0mmlines\u001b[0m\u001b[0;34m.\u001b[0m\u001b[0mLine2D\u001b[0m\u001b[0;34m.\u001b[0m\u001b[0m_alias_map\u001b[0m\u001b[0;34m)\u001b[0m\u001b[0;34m\u001b[0m\u001b[0;34m\u001b[0m\u001b[0m\n\u001b[0;32m-> 1665\u001b[0;31m         \u001b[0mlines\u001b[0m \u001b[0;34m=\u001b[0m \u001b[0;34m[\u001b[0m\u001b[0;34m*\u001b[0m\u001b[0mself\u001b[0m\u001b[0;34m.\u001b[0m\u001b[0m_get_lines\u001b[0m\u001b[0;34m(\u001b[0m\u001b[0;34m*\u001b[0m\u001b[0margs\u001b[0m\u001b[0;34m,\u001b[0m \u001b[0mdata\u001b[0m\u001b[0;34m=\u001b[0m\u001b[0mdata\u001b[0m\u001b[0;34m,\u001b[0m \u001b[0;34m**\u001b[0m\u001b[0mkwargs\u001b[0m\u001b[0;34m)\u001b[0m\u001b[0;34m]\u001b[0m\u001b[0;34m\u001b[0m\u001b[0;34m\u001b[0m\u001b[0m\n\u001b[0m\u001b[1;32m   1666\u001b[0m         \u001b[0;32mfor\u001b[0m \u001b[0mline\u001b[0m \u001b[0;32min\u001b[0m \u001b[0mlines\u001b[0m\u001b[0;34m:\u001b[0m\u001b[0;34m\u001b[0m\u001b[0;34m\u001b[0m\u001b[0m\n\u001b[1;32m   1667\u001b[0m             \u001b[0mself\u001b[0m\u001b[0;34m.\u001b[0m\u001b[0madd_line\u001b[0m\u001b[0;34m(\u001b[0m\u001b[0mline\u001b[0m\u001b[0;34m)\u001b[0m\u001b[0;34m\u001b[0m\u001b[0;34m\u001b[0m\u001b[0m\n",
            "\u001b[0;32m/usr/local/lib/python3.6/dist-packages/matplotlib/axes/_base.py\u001b[0m in \u001b[0;36m__call__\u001b[0;34m(self, *args, **kwargs)\u001b[0m\n\u001b[1;32m    223\u001b[0m                 \u001b[0mthis\u001b[0m \u001b[0;34m+=\u001b[0m \u001b[0margs\u001b[0m\u001b[0;34m[\u001b[0m\u001b[0;36m0\u001b[0m\u001b[0;34m]\u001b[0m\u001b[0;34m,\u001b[0m\u001b[0;34m\u001b[0m\u001b[0;34m\u001b[0m\u001b[0m\n\u001b[1;32m    224\u001b[0m                 \u001b[0margs\u001b[0m \u001b[0;34m=\u001b[0m \u001b[0margs\u001b[0m\u001b[0;34m[\u001b[0m\u001b[0;36m1\u001b[0m\u001b[0;34m:\u001b[0m\u001b[0;34m]\u001b[0m\u001b[0;34m\u001b[0m\u001b[0;34m\u001b[0m\u001b[0m\n\u001b[0;32m--> 225\u001b[0;31m             \u001b[0;32myield\u001b[0m \u001b[0;32mfrom\u001b[0m \u001b[0mself\u001b[0m\u001b[0;34m.\u001b[0m\u001b[0m_plot_args\u001b[0m\u001b[0;34m(\u001b[0m\u001b[0mthis\u001b[0m\u001b[0;34m,\u001b[0m \u001b[0mkwargs\u001b[0m\u001b[0;34m)\u001b[0m\u001b[0;34m\u001b[0m\u001b[0;34m\u001b[0m\u001b[0m\n\u001b[0m\u001b[1;32m    226\u001b[0m \u001b[0;34m\u001b[0m\u001b[0m\n\u001b[1;32m    227\u001b[0m     \u001b[0;32mdef\u001b[0m \u001b[0mget_next_color\u001b[0m\u001b[0;34m(\u001b[0m\u001b[0mself\u001b[0m\u001b[0;34m)\u001b[0m\u001b[0;34m:\u001b[0m\u001b[0;34m\u001b[0m\u001b[0;34m\u001b[0m\u001b[0m\n",
            "\u001b[0;32m/usr/local/lib/python3.6/dist-packages/matplotlib/axes/_base.py\u001b[0m in \u001b[0;36m_plot_args\u001b[0;34m(self, tup, kwargs)\u001b[0m\n\u001b[1;32m    389\u001b[0m             \u001b[0mx\u001b[0m\u001b[0;34m,\u001b[0m \u001b[0my\u001b[0m \u001b[0;34m=\u001b[0m \u001b[0mindex_of\u001b[0m\u001b[0;34m(\u001b[0m\u001b[0mtup\u001b[0m\u001b[0;34m[\u001b[0m\u001b[0;34m-\u001b[0m\u001b[0;36m1\u001b[0m\u001b[0;34m]\u001b[0m\u001b[0;34m)\u001b[0m\u001b[0;34m\u001b[0m\u001b[0;34m\u001b[0m\u001b[0m\n\u001b[1;32m    390\u001b[0m \u001b[0;34m\u001b[0m\u001b[0m\n\u001b[0;32m--> 391\u001b[0;31m         \u001b[0mx\u001b[0m\u001b[0;34m,\u001b[0m \u001b[0my\u001b[0m \u001b[0;34m=\u001b[0m \u001b[0mself\u001b[0m\u001b[0;34m.\u001b[0m\u001b[0m_xy_from_xy\u001b[0m\u001b[0;34m(\u001b[0m\u001b[0mx\u001b[0m\u001b[0;34m,\u001b[0m \u001b[0my\u001b[0m\u001b[0;34m)\u001b[0m\u001b[0;34m\u001b[0m\u001b[0;34m\u001b[0m\u001b[0m\n\u001b[0m\u001b[1;32m    392\u001b[0m \u001b[0;34m\u001b[0m\u001b[0m\n\u001b[1;32m    393\u001b[0m         \u001b[0;32mif\u001b[0m \u001b[0mself\u001b[0m\u001b[0;34m.\u001b[0m\u001b[0mcommand\u001b[0m \u001b[0;34m==\u001b[0m \u001b[0;34m'plot'\u001b[0m\u001b[0;34m:\u001b[0m\u001b[0;34m\u001b[0m\u001b[0;34m\u001b[0m\u001b[0m\n",
            "\u001b[0;32m/usr/local/lib/python3.6/dist-packages/matplotlib/axes/_base.py\u001b[0m in \u001b[0;36m_xy_from_xy\u001b[0;34m(self, x, y)\u001b[0m\n\u001b[1;32m    268\u001b[0m         \u001b[0;32mif\u001b[0m \u001b[0mx\u001b[0m\u001b[0;34m.\u001b[0m\u001b[0mshape\u001b[0m\u001b[0;34m[\u001b[0m\u001b[0;36m0\u001b[0m\u001b[0;34m]\u001b[0m \u001b[0;34m!=\u001b[0m \u001b[0my\u001b[0m\u001b[0;34m.\u001b[0m\u001b[0mshape\u001b[0m\u001b[0;34m[\u001b[0m\u001b[0;36m0\u001b[0m\u001b[0;34m]\u001b[0m\u001b[0;34m:\u001b[0m\u001b[0;34m\u001b[0m\u001b[0;34m\u001b[0m\u001b[0m\n\u001b[1;32m    269\u001b[0m             raise ValueError(\"x and y must have same first dimension, but \"\n\u001b[0;32m--> 270\u001b[0;31m                              \"have shapes {} and {}\".format(x.shape, y.shape))\n\u001b[0m\u001b[1;32m    271\u001b[0m         \u001b[0;32mif\u001b[0m \u001b[0mx\u001b[0m\u001b[0;34m.\u001b[0m\u001b[0mndim\u001b[0m \u001b[0;34m>\u001b[0m \u001b[0;36m2\u001b[0m \u001b[0;32mor\u001b[0m \u001b[0my\u001b[0m\u001b[0;34m.\u001b[0m\u001b[0mndim\u001b[0m \u001b[0;34m>\u001b[0m \u001b[0;36m2\u001b[0m\u001b[0;34m:\u001b[0m\u001b[0;34m\u001b[0m\u001b[0;34m\u001b[0m\u001b[0m\n\u001b[1;32m    272\u001b[0m             raise ValueError(\"x and y can be no greater than 2-D, but have \"\n",
            "\u001b[0;31mValueError\u001b[0m: x and y must have same first dimension, but have shapes (500,) and (1,)"
          ]
        },
        {
          "output_type": "display_data",
          "data": {
            "image/png": "[encoded data removed]",
            "text/plain": [
              "<Figure size 432x288 with 1 Axes>"
            ]
          },
          "metadata": {
            "tags": []
          }
        }
      ]
    }
  ]
}