{
  "nbformat": 4,
  "nbformat_minor": 0,
  "metadata": {
    "colab": {
      "provenance": [],
      "include_colab_link": true
    },
    "kernelspec": {
      "name": "python3",
      "display_name": "Python 3"
    }
  },
  "cells": [
    {
      "cell_type": "markdown",
      "metadata": {
        "id": "view-in-github",
        "colab_type": "text"
      },
      "source": [
        "<a href=\"https://colab.research.google.com/github/hlberghout/CHEM4420/blob/main/9_60_Solutions_of_HO.ipynb\" target=\"_parent\"><img src=\"https://colab.research.google.com/assets/colab-badge.svg\" alt=\"Open In Colab\"/></a>"
      ]
    },
    {
      "cell_type": "markdown",
      "metadata": {
        "id": "0pRWUmfohCrT"
      },
      "source": [
        "# **Solutions of HO**\n",
        "\n",
        "9.60. Using the second-order differential equation for the motion of a harmonic oscilltor, find solutions to the equation and plot them versus time.\n",
        "---\n",
        "\n"
      ]
    },
    {
      "cell_type": "markdown",
      "metadata": {
        "id": "BPyLGEJlEFpy"
      },
      "source": [
        "This is a text block than can be used to explain sections of code in the program or even write a complete report.  Comments within the code block can also be used as demonstrated below.  The first code block of this notebook is a library declaration block defining the libraries the contain the functions that we will use and the notebook scrip that follows and how those functions are called."
      ]
    },
    {
      "cell_type": "code",
      "metadata": {
        "id": "JlS5SLCdrAfX"
      },
      "source": [
        "#note that any input following a pound symbol is a comment and is ignored by the intepreter.\n",
        "import matplotlib #Matplotlib is a python plotting library used in this example.\n",
        "import matplotlib.pyplot as plt #pyplot provides a matlab like plotting function.\n",
        "import numpy as np #NumPy is the fundamental scientific computing package in Python.\n",
        "import scipy.constants as constants #SciPy physical constants library, SI units.\n",
        "import scipy.integrate as integrate #SciPy Integration library\n",
        "import scipy.optimize as optimize\n",
        "import scipy.special as special #SciPy special functions library\n",
        "import seaborn #matplotlib enhancement.\n",
        "from IPython.display import Latex #library to allow creation of pretty formulas written in LATEX"
      ],
      "execution_count": null,
      "outputs": []
    },
    {
      "cell_type": "markdown",
      "metadata": {
        "id": "1tOY2g-EE7q3"
      },
      "source": [
        "This block defines the initial values of variable that are not defined elsewhere in the imported libraries above."
      ]
    },
    {
      "cell_type": "code",
      "metadata": {
        "id": "TtgS-lAHoCFD"
      },
      "source": [
        "# Defined variables\n",
        "k = 1.0 #Spring constant (N/m)\n",
        "m = 10.0 #mass of oscillator (kg)\n",
        "A = 1.0 #sine function amplitude coefficient\n",
        "B = 0.5 #cosine function amplitude coefficient\n",
        "t_i = 0.0 # initial time for plot (s)\n",
        "t_f = 100.0 # duration (s)\n",
        "steps = 500 # number of steps to plot\n",
        "t = np.linspace(t_i, t_f, steps) #range variable "
      ],
      "execution_count": null,
      "outputs": []
    },
    {
      "cell_type": "markdown",
      "metadata": {
        "id": "OQkkfdqmGAG7"
      },
      "source": [
        "The harmonic oscillator is an example of a Hooke's law system describing the motion of a particle subject to a linear restoring force:\n",
        "\n",
        "$$ F = -kx  $$\n",
        "\n",
        "The corresponding potential energy function is:\n",
        "\n",
        "$$ V = \\tfrac 1 2 k x^2 $$\n",
        "\n",
        "Based on Newton's laws, a differential equation describing the motion of the particle is:\n",
        "\n",
        "$$ m \\frac {d^2x}{dt^2} + kx = 0 $$\n",
        "\n",
        "The solution of this differential equation can be written as a sum of sine and cosine functions:\n",
        "\n",
        "$$ x(t) = A \\sin \\omega t + B \\cos \\omega t $$\n",
        "\n",
        "$A$ and $B$ are constants reflecting the amplitude of the oscillation and $\\omega$ is the angular frequency of oscillation, which is related to the spring constant $k$ and the mass $m$.\n",
        "\n",
        "$$ \\omega = \\left( \\frac k m \\right) ^{1/2} $$\n",
        "\n",
        "The following code calculates and plots the solution of the classical harmonic oscillator."
      ]
    },
    {
      "cell_type": "code",
      "metadata": {
        "id": "mzUaPOi9IT3G"
      },
      "source": [
        "#All formulas defined as spectral radiances\n",
        "#Define the solution of the harmonic oscillator differential equation as a function\n",
        "def x(t,A,B,k,m):\n",
        " return A*np.sin(np.sqrt(k/m)*t)+B*np.cos(np.sqrt(k/m)*t)"
      ],
      "execution_count": null,
      "outputs": []
    },
    {
      "cell_type": "markdown",
      "metadata": {
        "id": "t8svY_c6TjMV"
      },
      "source": [
        "Finally, this block of code produces the plot that allows us to visually compare these three functions."
      ]
    },
    {
      "cell_type": "code",
      "metadata": {
        "id": "RGtcJbXnIlXM",
        "outputId": "83e33c5d-5c1b-4fb9-b101-364e13ccbf8d",
        "colab": {
          "base_uri": "https://localhost:8080/",
          "height": 297
        }
      },
      "source": [
        "#Plot the solution.\n",
        "fig = plt.figure()\n",
        "ax = plt.axes()\n",
        "ax.plot(t,x(t,A,B,k,m), 'r')\n",
        "ax.set(xlabel='Time (s)', ylabel='Position (m)',\n",
        "       title=\"Harmonic Oscillator Solution\")\n",
        "ax.grid()\n",
        "#plt.ylim(-rmax*0.05,rmax)\n",
        "plt.ticklabel_format(style='sci', axis='both',scilimits=(-3,4), useMathText='True')\n",
        "plt.show()"
      ],
      "execution_count": null,
      "outputs": [
        {
          "output_type": "display_data",
          "data": {
            "image/png": "[encoded data removed]",
            "text/plain": [
              "<Figure size 432x288 with 1 Axes>"
            ]
          },
          "metadata": {
            "tags": []
          }
        }
      ]
    }
  ]
}