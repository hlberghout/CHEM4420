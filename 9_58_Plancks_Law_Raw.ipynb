{
  "nbformat": 4,
  "nbformat_minor": 0,
  "metadata": {
    "colab": {
      "provenance": [],
      "include_colab_link": true
    },
    "kernelspec": {
      "name": "python3",
      "display_name": "Python 3"
    }
  },
  "cells": [
    {
      "cell_type": "markdown",
      "metadata": {
        "id": "view-in-github",
        "colab_type": "text"
      },
      "source": [
        "<a href=\"https://colab.research.google.com/github/hlberghout/CHEM4420/blob/main/9_58_Plancks_Law_Raw.ipynb\" target=\"_parent\"><img src=\"https://colab.research.google.com/assets/colab-badge.svg\" alt=\"Open In Colab\"/></a>"
      ]
    },
    {
      "cell_type": "markdown",
      "metadata": {
        "id": "0pRWUmfohCrT"
      },
      "source": [
        "# **Integrating Planck's equation in terms of power per unit area**\n",
        "---\n",
        "\n"
      ]
    },
    {
      "cell_type": "code",
      "metadata": {
        "id": "JlS5SLCdrAfX",
        "outputId": "d4fd1bd4-bbc7-41bb-9b28-ddb5f513dd37",
        "colab": {
          "base_uri": "https://localhost:8080/",
          "height": 410
        }
      },
      "source": [
        "#note that any input following a pound symbol is a comment and is ignored by the intepreter.\n",
        "import matplotlib #Matplotlib is a python plotting library used in this example.\n",
        "import matplotlib.pyplot as plt #pyplot provides a matlab like plotting function.\n",
        "import numpy as np #NumPy is the fundamental scientific computing package in Python.\n",
        "import scipy.constants as constants #SciPy physical constants library, SI units.\n",
        "import scipy.integrate as integrate #SciPy Integration library\n",
        "import scipy.special as special #SciPy special functions library\n",
        "import seaborn #matplotlib enhancement.\n",
        "\n",
        "# Defined variables\n",
        "T = 6500.0 #Temperature in (Kelvin)\n",
        "lmin = 1.0E-9 #Minimum wavelength to plot (meters)\n",
        "lmax = 1.0E-5 #Maximum wavelength to plot (meters)\n",
        "steps = 500 #number of points to plot\n",
        "l = np.linspace(lmin, lmax, steps) #range variable for plot\n",
        "\n",
        "#Define Planck's equation as a function\n",
        "def dE(l, T):\n",
        "   return 2*constants.pi*constants.h*constants.c**2/l**5*(1/(np.exp(np.float128(constants.h*constants.c/(l*constants.k*T)))-1)) \n",
        "   #note that the exponetial argument is too large to be evaluated with a 64-bit exp, so changed to 128-bit.\n",
        "\n",
        "#Plot Planck's equation at temperature T.\n",
        "fig = plt.figure()\n",
        "ax = plt.axes()\n",
        "ax.plot(l, dE(l, T))\n",
        "ax.set(xlabel='Wavelength (m)', ylabel='Power/Area (W/m^2)',\n",
        "       title=\"Planck's Law\")\n",
        "ax.grid()\n",
        "plt.ticklabel_format(style='sci', axis='both',scilimits=(-3,4), useMathText='True')\n",
        "plt.show()\n",
        "\n",
        "E = integrate.quad(dE, 0, lmax, args=(T))\n",
        "print(T, \"Kelvins\") \n",
        "print(\"Integrated Intensity: \", \"%10.6E\"% E[0], \"W/m^2\")\n",
        "print(\"Estimated Error: \", \"%10.6E\"% E[1], \"W/m^2\")\n",
        "\n",
        "sigma = E[0]/T**4\n",
        "PercentDeltasigma = (sigma-constants.sigma)/constants.sigma*100\n",
        "\n",
        "print(\"Estimated Stefan-Boltzmann Constant: \", \"%10.6E\"% sigma, \"W/m^2/K^4\")\n",
        "print(\"Compare to literature: 5.670400E-8 W/m^2/K^4\")\n",
        "print(\"Percent difference: \", \"%10.3E\"% PercentDeltasigma, \"%\")\n"
      ],
      "execution_count": 1,
      "outputs": [
        {
          "output_type": "display_data",
          "data": {
            "text/plain": [
              "<Figure size 432x288 with 1 Axes>"
            ],
            "image/png": "[encoded data removed]"
          },
          "metadata": {
            "needs_background": "light"
          }
        },
        {
          "output_type": "stream",
          "name": "stdout",
          "text": [
            "6500.0 Kelvins\n",
            "Integrated Intensity:  1.011679E+08 W/m^2\n",
            "Estimated Error:  6.007454E-03 W/m^2\n",
            "Estimated Stefan-Boltzmann Constant:  5.667472E-08 W/m^2/K^4\n",
            "Compare to literature: 5.670400E-8 W/m^2/K^4\n",
            "Percent difference:  -5.118E-02 %\n"
          ]
        }
      ]
    },
    {
      "cell_type": "code",
      "metadata": {
        "id": "TtgS-lAHoCFD"
      },
      "source": [],
      "execution_count": 1,
      "outputs": []
    }
  ]
}